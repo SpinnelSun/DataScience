{
 "cells": [
  {
   "cell_type": "markdown",
   "metadata": {},
   "source": [
    " # Titanic, náufragos em dados.\n",
    " ---\n",
    "\n",
    " O RMS Titanic foi um navio de passageiros britânico projetado para ser o mais luxuoso e mais seguro de sua época. Sua viagem inaugural partiu de Southampton e, passando pelas cidades de Cherbourg e Queenstown, tinha New York como destino final. Após a colisão com um iceberg em 14 de abril de 1912, o navio afundou no dia seguinte e causou a morte de 1502 das 2224 pessoas a bordo.\n",
    "\n",
    "O naufrágio do Titanic levou a comunidade internacional a discutir leis de navegação mais rígidas e tornou-se um dos mais famosos da história. Entre os principais motivos para as dimensões da tragédia, destacam-se as deficiências nos procedimentos de evacuação e a insuficiência de botes salva-vidas. Porém, sobreviver nesse cenário pode não ter sido questão de pura sorte e, por isso, a análise a seguir investigará se alguns grupos de indivíduos estavam mais propensos a sobreviver do que outros."
   ]
  },
  {
   "cell_type": "markdown",
   "metadata": {},
   "source": [
    "\n",
    "## Bibliotecas e Dados\n",
    "---\n",
    "\n",
    "Para a realização da presente análise, serão utilizadas as bibliotecas **Pandas**, **Seaborn** e **Matplotlib**. Todas as visualizações de dados produzidas serão dispostas nesse mesmo documento e os números reais serão exibidos com precisão de duas casas decimais para melhor compreensão dos mesmos. "
   ]
  },
  {
   "cell_type": "code",
   "execution_count": 56,
   "metadata": {},
   "outputs": [],
   "source": [
    "import pandas as pd\n",
    "import seaborn as sns\n",
    "import matplotlib as plt\n",
    "\n",
    "%matplotlib inline\n",
    "\n",
    "pd.options.display.float_format = \\\n",
    "    lambda x : '{:.0f}'.format(x) if round(x,0) == x else '{:,.2f}'.format(x)"
   ]
  },
  {
   "cell_type": "markdown",
   "metadata": {},
   "source": [
    "Serão utilizados dados referentes a 891 dos 2224 passageiros do RMS Titanic. Essa base de dados foi modificada e preparada previamente para melhor compreensão e adequação ao português, mas sua versão original pode ser obtida [aqui](https://www.kaggle.com/c/titanic)."
   ]
  },
  {
   "cell_type": "code",
   "execution_count": 57,
   "metadata": {},
   "outputs": [
    {
     "data": {
      "text/plain": [
       "891"
      ]
     },
     "execution_count": 57,
     "metadata": {},
     "output_type": "execute_result"
    }
   ],
   "source": [
    "data = pd.read_csv(\"../data/titanic_data.csv\")\n",
    "data[\"ID\"].count()"
   ]
  },
  {
   "cell_type": "markdown",
   "metadata": {},
   "source": [
    "A base de dados possui não somente informações demográficas de cada passageiro, mas também se o mesmo sobreviveu ao naufrágio, bem como informações sobre sua passagem e estadia no navio. A seguir, uma descrição mais detalhada de cada uma das colunas.\n",
    "\n",
    "   ---\n",
    "   - **ID:** Identificador único do passageiro.\n",
    "   - **Passagem:** Identificador único da passagem adquirida.\n",
    "   ---\n",
    "   - **Idade:** Idade, em anos, do passageiro.\n",
    "   - **Nome:** Nome completo, com pronome de tratamento incluso.\n",
    "   - **Irmãos e Cônjuges:** Número de irmãos e/ou cônjuges também a bordo.\n",
    "   - **Pais e Filhos:** Número de ascendentes e/ou descendentes diretos a bordo.\n",
    "   - **Sobrevivente:** Booleano indicativo da sobrevivência do passageiro ao naufrágio.\n",
    "   ---\n",
    "   - **Cabine:** Cabine destinada ao passageiro.\n",
    "   - **Tarifa:** Tarifa de embarque paga pelo passageiro.\n",
    "   - **Classe:** Classe da passagem adquirida pelo passageiro (1ª, 2ª ou 3ª).\n",
    "   - **Local de Embarque:** Cidade em que o passageiro embarcou no navio (Southampton, Cherbourg ou Queenstown).\n",
    "   ---"
   ]
  },
  {
   "cell_type": "code",
   "execution_count": 58,
   "metadata": {},
   "outputs": [
    {
     "data": {
      "text/html": [
       "<div>\n",
       "<style scoped>\n",
       "    .dataframe tbody tr th:only-of-type {\n",
       "        vertical-align: middle;\n",
       "    }\n",
       "\n",
       "    .dataframe tbody tr th {\n",
       "        vertical-align: top;\n",
       "    }\n",
       "\n",
       "    .dataframe thead th {\n",
       "        text-align: right;\n",
       "    }\n",
       "</style>\n",
       "<table border=\"1\" class=\"dataframe\">\n",
       "  <thead>\n",
       "    <tr style=\"text-align: right;\">\n",
       "      <th></th>\n",
       "      <th>ID</th>\n",
       "      <th>Nome</th>\n",
       "      <th>Idade</th>\n",
       "      <th>Sexo</th>\n",
       "      <th>Sobrevivente</th>\n",
       "      <th>Pais e Filhos</th>\n",
       "      <th>Irmãos e Cônjuges</th>\n",
       "      <th>Classe</th>\n",
       "      <th>Passagem</th>\n",
       "      <th>Local de Embarque</th>\n",
       "      <th>Tarifa</th>\n",
       "      <th>Cabine</th>\n",
       "    </tr>\n",
       "  </thead>\n",
       "  <tbody>\n",
       "    <tr>\n",
       "      <th>0</th>\n",
       "      <td>1</td>\n",
       "      <td>Mr. Owen Harris Braund</td>\n",
       "      <td>22</td>\n",
       "      <td>Masculino</td>\n",
       "      <td>False</td>\n",
       "      <td>0</td>\n",
       "      <td>1</td>\n",
       "      <td>3ª</td>\n",
       "      <td>A/5 21171</td>\n",
       "      <td>Southampton</td>\n",
       "      <td>7.25</td>\n",
       "      <td>NaN</td>\n",
       "    </tr>\n",
       "    <tr>\n",
       "      <th>1</th>\n",
       "      <td>2</td>\n",
       "      <td>Mrs. John Bradley (Florence Briggs Thayer) Cum...</td>\n",
       "      <td>38</td>\n",
       "      <td>Feminino</td>\n",
       "      <td>True</td>\n",
       "      <td>0</td>\n",
       "      <td>1</td>\n",
       "      <td>1ª</td>\n",
       "      <td>PC 17599</td>\n",
       "      <td>Cherbourg</td>\n",
       "      <td>71.28</td>\n",
       "      <td>C85</td>\n",
       "    </tr>\n",
       "    <tr>\n",
       "      <th>2</th>\n",
       "      <td>3</td>\n",
       "      <td>Miss. Laina Heikkinen</td>\n",
       "      <td>26</td>\n",
       "      <td>Feminino</td>\n",
       "      <td>True</td>\n",
       "      <td>0</td>\n",
       "      <td>0</td>\n",
       "      <td>3ª</td>\n",
       "      <td>STON/O2. 3101282</td>\n",
       "      <td>Southampton</td>\n",
       "      <td>7.92</td>\n",
       "      <td>NaN</td>\n",
       "    </tr>\n",
       "    <tr>\n",
       "      <th>3</th>\n",
       "      <td>4</td>\n",
       "      <td>Mrs. Jacques Heath (Lily May Peel) Futrelle</td>\n",
       "      <td>35</td>\n",
       "      <td>Feminino</td>\n",
       "      <td>True</td>\n",
       "      <td>0</td>\n",
       "      <td>1</td>\n",
       "      <td>1ª</td>\n",
       "      <td>113803</td>\n",
       "      <td>Southampton</td>\n",
       "      <td>53.10</td>\n",
       "      <td>C123</td>\n",
       "    </tr>\n",
       "    <tr>\n",
       "      <th>4</th>\n",
       "      <td>5</td>\n",
       "      <td>Mr. William Henry Allen</td>\n",
       "      <td>35</td>\n",
       "      <td>Masculino</td>\n",
       "      <td>False</td>\n",
       "      <td>0</td>\n",
       "      <td>0</td>\n",
       "      <td>3ª</td>\n",
       "      <td>373450</td>\n",
       "      <td>Southampton</td>\n",
       "      <td>8.05</td>\n",
       "      <td>NaN</td>\n",
       "    </tr>\n",
       "  </tbody>\n",
       "</table>\n",
       "</div>"
      ],
      "text/plain": [
       "   ID                                               Nome  Idade       Sexo  \\\n",
       "0   1                             Mr. Owen Harris Braund     22  Masculino   \n",
       "1   2  Mrs. John Bradley (Florence Briggs Thayer) Cum...     38   Feminino   \n",
       "2   3                              Miss. Laina Heikkinen     26   Feminino   \n",
       "3   4        Mrs. Jacques Heath (Lily May Peel) Futrelle     35   Feminino   \n",
       "4   5                            Mr. William Henry Allen     35  Masculino   \n",
       "\n",
       "   Sobrevivente  Pais e Filhos  Irmãos e Cônjuges Classe          Passagem  \\\n",
       "0         False              0                  1     3ª         A/5 21171   \n",
       "1          True              0                  1     1ª          PC 17599   \n",
       "2          True              0                  0     3ª  STON/O2. 3101282   \n",
       "3          True              0                  1     1ª            113803   \n",
       "4         False              0                  0     3ª            373450   \n",
       "\n",
       "  Local de Embarque  Tarifa Cabine  \n",
       "0       Southampton    7.25    NaN  \n",
       "1         Cherbourg   71.28    C85  \n",
       "2       Southampton    7.92    NaN  \n",
       "3       Southampton   53.10   C123  \n",
       "4       Southampton    8.05    NaN  "
      ]
     },
     "execution_count": 58,
     "metadata": {},
     "output_type": "execute_result"
    }
   ],
   "source": [
    "data.head()"
   ]
  },
  {
   "cell_type": "markdown",
   "metadata": {},
   "source": [
    "## Preparação para Análise\n",
    "---\n",
    "\n",
    "As colunas **ID**, **Cabine** e **Passagem** não contém dados de interesse para a presente análise e, portanto, serão removidas do *dataframe* para apresentação mais sucinta dos dados."
   ]
  },
  {
   "cell_type": "code",
   "execution_count": 59,
   "metadata": {},
   "outputs": [],
   "source": [
    "data = data.drop([\"ID\", \"Cabine\", \"Passagem\"], axis = 1)"
   ]
  },
  {
   "cell_type": "markdown",
   "metadata": {},
   "source": [
    "A seguir, o código das funções produzidas para utilização na análise:"
   ]
  },
  {
   "cell_type": "code",
   "execution_count": 73,
   "metadata": {},
   "outputs": [],
   "source": [
    "def get_relative_frequency(dataframe, column_label):\n",
    "    \"\"\"\n",
    "    Calcula e retorna a frequência relativa para os valores a ocorrerem em uma\n",
    "    coluna específica do dataframe.\n",
    "    \"\"\"\n",
    "    return dataframe[column_label].value_counts(normalize = True)\n",
    "    \n",
    "def get_numeric_statistics(dataframe, column_label):\n",
    "    \"\"\"\n",
    "    Calcula e retorna a média, a mediana, o mínimo, o máximo e o desvio padrão\n",
    "    de uma coluna específica do dataframe. Naturalmente, a coluna deve conter\n",
    "    valores numéricos.\n",
    "    \"\"\"\n",
    "    return pd.Series({\"Mean\": dataframe[column_label].mean(),\n",
    "                      \"Median:\": dataframe[column_label].median(),\n",
    "                      \"Minimum\": dataframe[column_label].min(),\n",
    "                      \"Maximum\": dataframe[column_label].max(),\n",
    "                      \"Standard Deviation:\": dataframe[column_label].std()})\n",
    "\n",
    "def create_numeric_value_column(dataframe, original_label, new_label):\n",
    "    \"\"\"\n",
    "    Mapeia os valores categóricos de uma coluna do dataframe para novos valores,\n",
    "    desta vez numéricos, que serão inseridos nesse mesmo dataframe em uma coluna,\n",
    "    cujo label é indicado como parâmetro.\n",
    "    \"\"\"\n",
    "    categories = dataframe[original_label].sort_values().unique().tolist()\n",
    "    new_values = []\n",
    "    \n",
    "    for value in dataframe[original_label]:\n",
    "        new_values.append(categories.index(value))\n",
    "    \n",
    "    dataframe[new_label] = pd.Series(new_values)\n",
    "    \n",
    "def get_correlations_of(target_label, dataframe, column_labels):\n",
    "    \"\"\"\n",
    "    Calcula e retorna as correlações de uma coluna-alvo do dataframe com cada\n",
    "    uma das colunas (desse mesmo dataframe) indicadas em uma lista. Todas as\n",
    "    colunas utilizadas nessa função devem conter valores numéricos.\n",
    "    \"\"\"\n",
    "    correlations = {}\n",
    "    for label in column_labels:\n",
    "        correlations[label] = dataframe[target_label].corr(dataframe[label])\n",
    "    return pd.Series(correlations).sort_values()"
   ]
  },
  {
   "cell_type": "markdown",
   "metadata": {},
   "source": [
    "## Conhecendo os Náufragos\n",
    "---\n",
    "\n",
    "Antes de iniciar a busca por fatores que tenham favorecido a sobrevivência de determinados grupos de passageiros do RMS Titanic, decidiu-se conhecer melhor a amostra e suas particularidades através do levantamento de algumas estatísticas."
   ]
  },
  {
   "cell_type": "code",
   "execution_count": 61,
   "metadata": {},
   "outputs": [
    {
     "data": {
      "text/plain": [
       "False   0.62\n",
       "True    0.38\n",
       "Name: Sobrevivente, dtype: float64"
      ]
     },
     "execution_count": 61,
     "metadata": {},
     "output_type": "execute_result"
    }
   ],
   "source": [
    "get_relative_frequency(data, \"Sobrevivente\")"
   ]
  },
  {
   "cell_type": "code",
   "execution_count": 62,
   "metadata": {},
   "outputs": [
    {
     "data": {
      "text/plain": [
       "Masculino   0.65\n",
       "Feminino    0.35\n",
       "Name: Sexo, dtype: float64"
      ]
     },
     "execution_count": 62,
     "metadata": {},
     "output_type": "execute_result"
    }
   ],
   "source": [
    "get_relative_frequency(data, \"Sexo\")"
   ]
  },
  {
   "cell_type": "code",
   "execution_count": 63,
   "metadata": {},
   "outputs": [
    {
     "data": {
      "text/plain": [
       "3ª   0.55\n",
       "1ª   0.24\n",
       "2ª   0.21\n",
       "Name: Classe, dtype: float64"
      ]
     },
     "execution_count": 63,
     "metadata": {},
     "output_type": "execute_result"
    }
   ],
   "source": [
    "get_relative_frequency(data, \"Classe\")"
   ]
  },
  {
   "cell_type": "code",
   "execution_count": 64,
   "metadata": {},
   "outputs": [
    {
     "data": {
      "text/plain": [
       "Mean                  29.70\n",
       "Median:                  28\n",
       "Minimum                0.42\n",
       "Maximum                  80\n",
       "Standard Deviation:   14.53\n",
       "dtype: float64"
      ]
     },
     "execution_count": 64,
     "metadata": {},
     "output_type": "execute_result"
    }
   ],
   "source": [
    "get_numeric_statistics(data, \"Idade\")"
   ]
  },
  {
   "cell_type": "markdown",
   "metadata": {},
   "source": [
    "Considerando os 891 passageiros descritos na base de dados, apenas 38% sobreviveram ao naufrágio. Além disso, 65% desses passageiros são do sexo masculino e, apenas, 35% do sexo feminino. A desigualdade dessa proporção é compreensível, visto que a viagem ocorreu no início do século XX, época em que as mulheres tinham sua liberdade (ainda mais) cerceada por uma sociedade fortemente machista.\n",
    "\n",
    "A maioria absoluta dos passageiros viajavam pela 3ª classe, algo esperado quando se considera os custos inferiores das passagens dessa classe. No entanto, destoando da expectativa, o número de passageiros viajando pela 1ª classe supera o número daqueles viajando pela 2ª classe. Ainda, a idade média da amostra é de cerca de 30 anos, porém, entre os passageiros estão inclusos desde bebês de colo até idosos.\n",
    "\n",
    "Para melhor compreensão da distribuição de idades nessa amostra, plotou-se o histograma apresentado a seguir. É perceptível uma forte concentração de idades entre 20 e 40 anos. Para valores superiores a esse intervalo, a concentração decaí proporcionalmente ao distanciamento do mesmo, já para valores inferiores ao intervalo, ocorre o inverso."
   ]
  },
  {
   "cell_type": "code",
   "execution_count": 65,
   "metadata": {},
   "outputs": [
    {
     "data": {
      "text/plain": [
       "<matplotlib.axes._subplots.AxesSubplot at 0x7f231bddcda0>"
      ]
     },
     "execution_count": 65,
     "metadata": {},
     "output_type": "execute_result"
    },
    {
     "data": {
      "image/png": "[encoded data removed]",
      "text/plain": [
       "<Figure size 432x288 with 1 Axes>"
      ]
     },
     "metadata": {
      "needs_background": "light"
     },
     "output_type": "display_data"
    }
   ],
   "source": [
    "sns.distplot(data[\"Idade\"].dropna(), bins = 16, kde = False)"
   ]
  },
  {
   "cell_type": "markdown",
   "metadata": {},
   "source": [
    "## Quem tem mais chances de sobreviver?\n",
    "---\n",
    "\n",
    "A correlação é uma medida estatística cujo valor é capaz de fornecer indícios sobre a existência (ou ausência) de relações entre duas variáveis quantitativas distintas. Visando utilizá-la como indicador único, realizou-se o mapeamento das variáveis **Sexo** e **Classe** para valores numéricos inteiros que foram adicionados ao *dataframe* em novas colunas nomeadas com o *label* original acrescido de \"(N)\".\n",
    "\n",
    "Visto que o **Local de Embarque** não é uma variável qualitativa ordinal, tampouco é possível mapeá-la para valores binários, não foi alvo de mapeamento para evitar uma possível inserção de viés no cálculo das correlações. Ainda, destaca-se que o uso de Python tornou o mapeamento da variável **Sobrevivente** desnecessário, uma vez que  booleanos serão tratados como inteiros (False = 0 e True = 1) automaticamente. "
   ]
  },
  {
   "cell_type": "code",
   "execution_count": 66,
   "metadata": {},
   "outputs": [
    {
     "data": {
      "text/html": [
       "<div>\n",
       "<style scoped>\n",
       "    .dataframe tbody tr th:only-of-type {\n",
       "        vertical-align: middle;\n",
       "    }\n",
       "\n",
       "    .dataframe tbody tr th {\n",
       "        vertical-align: top;\n",
       "    }\n",
       "\n",
       "    .dataframe thead th {\n",
       "        text-align: right;\n",
       "    }\n",
       "</style>\n",
       "<table border=\"1\" class=\"dataframe\">\n",
       "  <thead>\n",
       "    <tr style=\"text-align: right;\">\n",
       "      <th></th>\n",
       "      <th>Nome</th>\n",
       "      <th>Idade</th>\n",
       "      <th>Sexo</th>\n",
       "      <th>Sobrevivente</th>\n",
       "      <th>Pais e Filhos</th>\n",
       "      <th>Irmãos e Cônjuges</th>\n",
       "      <th>Classe</th>\n",
       "      <th>Local de Embarque</th>\n",
       "      <th>Tarifa</th>\n",
       "      <th>Sexo (N)</th>\n",
       "      <th>Classe (N)</th>\n",
       "    </tr>\n",
       "  </thead>\n",
       "  <tbody>\n",
       "    <tr>\n",
       "      <th>0</th>\n",
       "      <td>Mr. Owen Harris Braund</td>\n",
       "      <td>22</td>\n",
       "      <td>Masculino</td>\n",
       "      <td>False</td>\n",
       "      <td>0</td>\n",
       "      <td>1</td>\n",
       "      <td>3ª</td>\n",
       "      <td>Southampton</td>\n",
       "      <td>7.25</td>\n",
       "      <td>1</td>\n",
       "      <td>2</td>\n",
       "    </tr>\n",
       "    <tr>\n",
       "      <th>1</th>\n",
       "      <td>Mrs. John Bradley (Florence Briggs Thayer) Cum...</td>\n",
       "      <td>38</td>\n",
       "      <td>Feminino</td>\n",
       "      <td>True</td>\n",
       "      <td>0</td>\n",
       "      <td>1</td>\n",
       "      <td>1ª</td>\n",
       "      <td>Cherbourg</td>\n",
       "      <td>71.28</td>\n",
       "      <td>0</td>\n",
       "      <td>0</td>\n",
       "    </tr>\n",
       "    <tr>\n",
       "      <th>2</th>\n",
       "      <td>Miss. Laina Heikkinen</td>\n",
       "      <td>26</td>\n",
       "      <td>Feminino</td>\n",
       "      <td>True</td>\n",
       "      <td>0</td>\n",
       "      <td>0</td>\n",
       "      <td>3ª</td>\n",
       "      <td>Southampton</td>\n",
       "      <td>7.92</td>\n",
       "      <td>0</td>\n",
       "      <td>2</td>\n",
       "    </tr>\n",
       "    <tr>\n",
       "      <th>3</th>\n",
       "      <td>Mrs. Jacques Heath (Lily May Peel) Futrelle</td>\n",
       "      <td>35</td>\n",
       "      <td>Feminino</td>\n",
       "      <td>True</td>\n",
       "      <td>0</td>\n",
       "      <td>1</td>\n",
       "      <td>1ª</td>\n",
       "      <td>Southampton</td>\n",
       "      <td>53.10</td>\n",
       "      <td>0</td>\n",
       "      <td>0</td>\n",
       "    </tr>\n",
       "    <tr>\n",
       "      <th>4</th>\n",
       "      <td>Mr. William Henry Allen</td>\n",
       "      <td>35</td>\n",
       "      <td>Masculino</td>\n",
       "      <td>False</td>\n",
       "      <td>0</td>\n",
       "      <td>0</td>\n",
       "      <td>3ª</td>\n",
       "      <td>Southampton</td>\n",
       "      <td>8.05</td>\n",
       "      <td>1</td>\n",
       "      <td>2</td>\n",
       "    </tr>\n",
       "    <tr>\n",
       "      <th>5</th>\n",
       "      <td>Mr. James Moran</td>\n",
       "      <td>nan</td>\n",
       "      <td>Masculino</td>\n",
       "      <td>False</td>\n",
       "      <td>0</td>\n",
       "      <td>0</td>\n",
       "      <td>3ª</td>\n",
       "      <td>Queenstown</td>\n",
       "      <td>8.46</td>\n",
       "      <td>1</td>\n",
       "      <td>2</td>\n",
       "    </tr>\n",
       "    <tr>\n",
       "      <th>6</th>\n",
       "      <td>Mr. Timothy J McCarthy</td>\n",
       "      <td>54</td>\n",
       "      <td>Masculino</td>\n",
       "      <td>False</td>\n",
       "      <td>0</td>\n",
       "      <td>0</td>\n",
       "      <td>1ª</td>\n",
       "      <td>Southampton</td>\n",
       "      <td>51.86</td>\n",
       "      <td>1</td>\n",
       "      <td>0</td>\n",
       "    </tr>\n",
       "    <tr>\n",
       "      <th>7</th>\n",
       "      <td>Master. Gosta Leonard Palsson</td>\n",
       "      <td>2</td>\n",
       "      <td>Masculino</td>\n",
       "      <td>False</td>\n",
       "      <td>1</td>\n",
       "      <td>3</td>\n",
       "      <td>3ª</td>\n",
       "      <td>Southampton</td>\n",
       "      <td>21.07</td>\n",
       "      <td>1</td>\n",
       "      <td>2</td>\n",
       "    </tr>\n",
       "    <tr>\n",
       "      <th>8</th>\n",
       "      <td>Mrs. Oscar W (Elisabeth Vilhelmina Berg) Johnson</td>\n",
       "      <td>27</td>\n",
       "      <td>Feminino</td>\n",
       "      <td>True</td>\n",
       "      <td>2</td>\n",
       "      <td>0</td>\n",
       "      <td>3ª</td>\n",
       "      <td>Southampton</td>\n",
       "      <td>11.13</td>\n",
       "      <td>0</td>\n",
       "      <td>2</td>\n",
       "    </tr>\n",
       "    <tr>\n",
       "      <th>9</th>\n",
       "      <td>Mrs. Nicholas (Adele Achem) Nasser</td>\n",
       "      <td>14</td>\n",
       "      <td>Feminino</td>\n",
       "      <td>True</td>\n",
       "      <td>0</td>\n",
       "      <td>1</td>\n",
       "      <td>2ª</td>\n",
       "      <td>Cherbourg</td>\n",
       "      <td>30.07</td>\n",
       "      <td>0</td>\n",
       "      <td>1</td>\n",
       "    </tr>\n",
       "  </tbody>\n",
       "</table>\n",
       "</div>"
      ],
      "text/plain": [
       "                                                Nome  Idade       Sexo  \\\n",
       "0                             Mr. Owen Harris Braund     22  Masculino   \n",
       "1  Mrs. John Bradley (Florence Briggs Thayer) Cum...     38   Feminino   \n",
       "2                              Miss. Laina Heikkinen     26   Feminino   \n",
       "3        Mrs. Jacques Heath (Lily May Peel) Futrelle     35   Feminino   \n",
       "4                            Mr. William Henry Allen     35  Masculino   \n",
       "5                                    Mr. James Moran    nan  Masculino   \n",
       "6                             Mr. Timothy J McCarthy     54  Masculino   \n",
       "7                      Master. Gosta Leonard Palsson      2  Masculino   \n",
       "8   Mrs. Oscar W (Elisabeth Vilhelmina Berg) Johnson     27   Feminino   \n",
       "9                 Mrs. Nicholas (Adele Achem) Nasser     14   Feminino   \n",
       "\n",
       "   Sobrevivente  Pais e Filhos  Irmãos e Cônjuges Classe Local de Embarque  \\\n",
       "0         False              0                  1     3ª       Southampton   \n",
       "1          True              0                  1     1ª         Cherbourg   \n",
       "2          True              0                  0     3ª       Southampton   \n",
       "3          True              0                  1     1ª       Southampton   \n",
       "4         False              0                  0     3ª       Southampton   \n",
       "5         False              0                  0     3ª        Queenstown   \n",
       "6         False              0                  0     1ª       Southampton   \n",
       "7         False              1                  3     3ª       Southampton   \n",
       "8          True              2                  0     3ª       Southampton   \n",
       "9          True              0                  1     2ª         Cherbourg   \n",
       "\n",
       "   Tarifa  Sexo (N)  Classe (N)  \n",
       "0    7.25         1           2  \n",
       "1   71.28         0           0  \n",
       "2    7.92         0           2  \n",
       "3   53.10         0           0  \n",
       "4    8.05         1           2  \n",
       "5    8.46         1           2  \n",
       "6   51.86         1           0  \n",
       "7   21.07         1           2  \n",
       "8   11.13         0           2  \n",
       "9   30.07         0           1  "
      ]
     },
     "execution_count": 66,
     "metadata": {},
     "output_type": "execute_result"
    }
   ],
   "source": [
    "create_numeric_value_column(data, \"Sexo\", \"Sexo (N)\")\n",
    "create_numeric_value_column(data, \"Classe\", \"Classe (N)\")\n",
    "\n",
    "data.head(10)"
   ]
  },
  {
   "cell_type": "markdown",
   "metadata": {},
   "source": [
    "Com o mapeamento concluído, buscou-se conhecer a correlação da sobrevivência do passageiro com diversas outras variáveis conhecidas, sendo elas: a idade e o sexo do indivíduo, a classe pela qual estava viajando, o valor pago como tarifa de embarque e o número de familiares que o mesmo tinha à bordo do navio.\n",
    "\n",
    "Conhecendo os coeficientes de correlação de Pearson, os absolutos dos valores obtidos indicam que a sobrevivência do passageiro está fracamente correlacionada à sua classe de viagem (entre 0.3 e 0.5) e moderadamente correlacionada ao seu sexo (entre 0.5 e 0.7), enquanto os demais valores indicam correlações desprezíveis."
   ]
  },
  {
   "cell_type": "code",
   "execution_count": 74,
   "metadata": {
    "scrolled": true
   },
   "outputs": [
    {
     "data": {
      "text/plain": [
       "Sexo (N)            -0.54\n",
       "Classe (N)          -0.34\n",
       "Idade               -0.08\n",
       "Irmãos e Cônjuges   -0.04\n",
       "Pais e Filhos        0.08\n",
       "Tarifa               0.26\n",
       "dtype: float64"
      ]
     },
     "execution_count": 74,
     "metadata": {},
     "output_type": "execute_result"
    }
   ],
   "source": [
    "labels = [\"Idade\", \"Irmãos e Cônjuges\", \"Pais e Filhos\", \"Tarifa\", \"Sexo (N)\", \"Classe (N)\"]\n",
    "\n",
    "get_correlations_of(\"Sobrevivente\", data, labels)"
   ]
  },
  {
   "cell_type": "markdown",
   "metadata": {},
   "source": [
    "Para compreender melhor a relação entre a classe de viagem e a sobrevivência do passageiro, plotou-se o gráfico de barras abaixo. É notável que na 1ª classe o número de sobreviventes supera consideravelmente o número de mortos, enquanto na 3ª classe o número de mortos é maior que o triplo do número de sobreviventes. Além disso, o número de mortos e de sobreviventes é muito semelhante na 2ª classe. \n",
    "\n",
    "Esses números nos levam a supor que a classe de viagem de um passageiro e, consequentemente, seu poder aquisitivo podem ter sido determinantes em sua sobrevivência. É muito provável que, durante a evacuação do navio, os passageiros da 1ª classe tenham tido acesso mais fácil aos botes salva-vidas ou, até mesmo, tenham sido priorizados na ocupação desses."
   ]
  },
  {
   "cell_type": "code",
   "execution_count": 68,
   "metadata": {
    "scrolled": true
   },
   "outputs": [
    {
     "data": {
      "text/plain": [
       "<matplotlib.axes._subplots.AxesSubplot at 0x7f231bd50f98>"
      ]
     },
     "execution_count": 68,
     "metadata": {},
     "output_type": "execute_result"
    },
    {
     "data": {
      "image/png": "[encoded data removed]",
      "text/plain": [
       "<Figure size 432x288 with 1 Axes>"
      ]
     },
     "metadata": {
      "needs_background": "light"
     },
     "output_type": "display_data"
    }
   ],
   "source": [
    "sns.countplot(x = \"Classe\", hue = \"Sobrevivente\", data = data.sort_values(\"Classe\"), hue_order = (True, False))"
   ]
  },
  {
   "cell_type": "markdown",
   "metadata": {},
   "source": [
    "De maneira análoga, plotou-se o gráfico de barras abaixo para compreender melhor a relação entre o sexo e a sobrevivência dos passageiros. Nota-se que, enquanto cerca de 75% das mulheres sobreviveram ao naufrágio, menos de 20% dos homens sobreviveram. Assim, além de perceber que o sexo foi um fator importante para a sobrevivência dos passageiros, somos levados a supor que as mulheres foram priorizadas na ocupação dos botes salva-vidas."
   ]
  },
  {
   "cell_type": "code",
   "execution_count": 69,
   "metadata": {},
   "outputs": [
    {
     "data": {
      "text/plain": [
       "<matplotlib.axes._subplots.AxesSubplot at 0x7f231bd3b2b0>"
      ]
     },
     "execution_count": 69,
     "metadata": {},
     "output_type": "execute_result"
    },
    {
     "data": {
      "image/png": "[encoded data removed]",
      "text/plain": [
       "<Figure size 432x288 with 1 Axes>"
      ]
     },
     "metadata": {
      "needs_background": "light"
     },
     "output_type": "display_data"
    }
   ],
   "source": [
    "sns.countplot(x = \"Sexo\", hue = \"Sobrevivente\", data = data.sort_values(\"Sexo\"), hue_order = (True, False))"
   ]
  },
  {
   "cell_type": "markdown",
   "metadata": {},
   "source": [
    "Por fim, usando a mesma estratégia, investigou-se a relação entre a sobrevivência do passageiro e seu local de embarque. O porto da de Cherbourg foi o único dos três que gerou mais passageiros sobreviventes do que falecidos. Enquanto isso, o porto de Southampton teve apenas cerca de 1/3 dos passageiros sobrevivendo ao naufrágio. Essa desigualdade tão notável pode estar relacionada à posição das acomodações dos passageiros no navio de acordo com seu local de embarque, mas não há dados disponíveis para corroborar essa teoria."
   ]
  },
  {
   "cell_type": "code",
   "execution_count": 70,
   "metadata": {},
   "outputs": [
    {
     "data": {
      "text/plain": [
       "<matplotlib.axes._subplots.AxesSubplot at 0x7f231be1b780>"
      ]
     },
     "execution_count": 70,
     "metadata": {},
     "output_type": "execute_result"
    },
    {
     "data": {
      "image/png": "[encoded data removed]",
      "text/plain": [
       "<Figure size 432x288 with 1 Axes>"
      ]
     },
     "metadata": {
      "needs_background": "light"
     },
     "output_type": "display_data"
    }
   ],
   "source": [
    "sns.countplot(x = \"Local de Embarque\", hue = \"Sobrevivente\", data = data, hue_order = (True, False))"
   ]
  },
  {
   "cell_type": "markdown",
   "metadata": {},
   "source": [
    "## Conclusões\n",
    "---\n",
    "\n",
    "As análises realizadas levantaram indícios de que o sexo, a classe de viagem e o local de embarque dos passageiros estão relacionados à sobrevivência dos mesmos. No entanto, é importante ressaltar que a existência de correlação entre as variáveis investigadas não determina causalidade entre elas. Dessa forma, são necessárias novas investigações e uso de outras técnicas para determinar se ser uma mulher embarcando em Cherbourgh para uma viagem de 1ª classe no RMS Titanic é realmente suficiente para sobreviver ao naufrágio da embarcação."
   ]
  }
 ],
 "metadata": {
  "kernelspec": {
   "display_name": "Python 3",
   "language": "python",
   "name": "python3"
  },
  "language_info": {
   "codemirror_mode": {
    "name": "ipython",
    "version": 3
   },
   "file_extension": ".py",
   "mimetype": "text/x-python",
   "name": "python",
   "nbconvert_exporter": "python",
   "pygments_lexer": "ipython3",
   "version": "3.7.1"
  }
 },
 "nbformat": 4,
 "nbformat_minor": 2
}
